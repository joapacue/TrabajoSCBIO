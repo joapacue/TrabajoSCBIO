{
 "cells": [
  {
   "cell_type": "code",
   "execution_count": null,
   "metadata": {
    "id": "7QhNa7tic2Yo"
   },
   "outputs": [],
   "source": [
    "import pygame\n",
    "#if output_network == 1 --> press_right()\n",
    "#if output_network == 0 --> press_left()\n",
    "#(podemos tener mas q 2 teclas, simplemente hacemos otras funciònes parecidas)\n",
    "def press_right():\n",
    "    pygame.init()\n",
    "    pygame.key.set_repeat(1000, 1000)\n",
    "    pygame.event.post(pygame.event.Event(pygame.KEYDOWN, {'key': pygame.K_RIGHT}))\n",
    "    return\n",
    "def press_left():\n",
    "    pygame.init()\n",
    "    pygame.key.set_repeat(1000, 1000) #retardo 1 segundo\n",
    "    pygame.event.post(pygame.event.Event(pygame.KEYDOWN, {'key': pygame.K_LEFT}))\n",
    "    return"
   ]
  }
 ],
 "metadata": {
  "colab": {
   "provenance": []
  },
  "kernelspec": {
   "display_name": "Python 3 (ipykernel)",
   "language": "python",
   "name": "python3"
  },
  "language_info": {
   "codemirror_mode": {
    "name": "ipython",
    "version": 3
   },
   "file_extension": ".py",
   "mimetype": "text/x-python",
   "name": "python",
   "nbconvert_exporter": "python",
   "pygments_lexer": "ipython3",
   "version": "3.10.6"
  }
 },
 "nbformat": 4,
 "nbformat_minor": 1
}
